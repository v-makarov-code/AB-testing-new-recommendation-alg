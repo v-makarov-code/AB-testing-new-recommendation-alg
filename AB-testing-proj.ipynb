{
 "cells": [
  {
   "cell_type": "code",
   "execution_count": 2,
   "id": "b2957d34-a56f-4022-a4c2-f9f82fa6ce45",
   "metadata": {},
   "outputs": [],
   "source": [
    "import seaborn as sns\n",
    "from matplotlib import pyplot as plt\n",
    "from matplotlib import colors as mcolors\n",
    "import numpy as np\n",
    "import pandas as pd\n",
    "import pandahouse as ph\n",
    "import scipy.stats as st"
   ]
  },
  {
   "cell_type": "markdown",
   "id": "18ced265-c27e-42f0-bae8-26f4322f312f",
   "metadata": {},
   "source": [
    "### Загрузка данных АБ-теста"
   ]
  },
  {
   "cell_type": "code",
   "execution_count": 6,
   "id": "9552bd75-b710-48b1-bf28-db9c5b3f3d30",
   "metadata": {},
   "outputs": [],
   "source": [
    "connection = {'host': 'https://clickhouse.lab.karpov.courses',\n",
    "'database':'simulator_20250520',\n",
    "'user':'student',\n",
    "'password':'dpo_python_2020'\n",
    "}\n",
    "# AB-тест проводился с 2025-05-02 по 2025-05-08\n",
    "q = \"\"\"\n",
    "SELECT exp_group, \n",
    "       user_id,\n",
    "       sum(action = 'like') as likes,\n",
    "       sum(action = 'view') as views,\n",
    "       likes/views as ctr\n",
    "FROM   {db}.feed_actions \n",
    "WHERE toDate(time) between '2025-05-02' and '2025-05-08'\n",
    "      and exp_group in (2,1)\n",
    "GROUP BY exp_group, user_id\n",
    "\"\"\"\n",
    "\n",
    "df = ph.read_clickhouse(q, connection=connection)"
   ]
  },
  {
   "cell_type": "code",
   "execution_count": 8,
   "id": "f205a28f-8bc7-4135-99c5-a02b4f19e6dc",
   "metadata": {},
   "outputs": [
    {
     "data": {
      "image/png": "[encoded data removed]",
      "text/plain": [
       "<Figure size 432x288 with 1 Axes>"
      ]
     },
     "metadata": {
      "needs_background": "light"
     },
     "output_type": "display_data"
    }
   ],
   "source": [
    "# Визуализация распределений в обоих групп на гистограмме\n",
    "groups = sns.histplot(data=df, \n",
    "              x='ctr', \n",
    "              hue='exp_group', \n",
    "              palette=['r', 'b'],\n",
    "              alpha=0.5,\n",
    "              kde=False)"
   ]
  },
  {
   "cell_type": "markdown",
   "id": "1ffead99-85e2-4b4e-9733-4575df4496d7",
   "metadata": {},
   "source": [
    "### Сравнение тестов"
   ]
  },
  {
   "cell_type": "code",
   "execution_count": 9,
   "id": "76dc920c-7abb-44bb-b9ab-1d644077546e",
   "metadata": {},
   "outputs": [],
   "source": [
    "control = df[df.exp_group == 1].ctr\n",
    "test = df[df.exp_group == 2].ctr"
   ]
  },
  {
   "cell_type": "markdown",
   "id": "6c82a7b0-cdab-4830-8d88-442b57572d85",
   "metadata": {},
   "source": [
    "#### T-тест"
   ]
  },
  {
   "cell_type": "code",
   "execution_count": 10,
   "id": "6ba02f1c-6042-455a-bed4-fcbbae48c8b0",
   "metadata": {},
   "outputs": [
    {
     "data": {
      "text/plain": [
       "LeveneResult(statistic=2757.7940649593234, pvalue=0.0)"
      ]
     },
     "execution_count": 10,
     "metadata": {},
     "output_type": "execute_result"
    }
   ],
   "source": [
    "st.levene(control, test)"
   ]
  },
  {
   "cell_type": "code",
   "execution_count": 11,
   "id": "830cb0c9-e5ae-4542-9448-d9a427d64184",
   "metadata": {},
   "outputs": [
    {
     "data": {
      "text/plain": [
       "Ttest_indResult(statistic=0.4051491913112757, pvalue=0.685373331140751)"
      ]
     },
     "execution_count": 11,
     "metadata": {},
     "output_type": "execute_result"
    }
   ],
   "source": [
    "st.ttest_ind(control, test, equal_var=False)"
   ]
  },
  {
   "cell_type": "markdown",
   "id": "c1e9222d-70e1-425d-a447-ec93861ac635",
   "metadata": {},
   "source": [
    "Т-тест не видит различий в распределениях"
   ]
  },
  {
   "cell_type": "markdown",
   "id": "931aec56-1a77-4581-bdf8-920b97be8169",
   "metadata": {},
   "source": [
    "#### тест Манна-Уитни"
   ]
  },
  {
   "cell_type": "code",
   "execution_count": 14,
   "id": "c0ebc2b3-8add-452f-b385-b98350b801e4",
   "metadata": {},
   "outputs": [
    {
     "data": {
      "text/plain": [
       "MannwhitneyuResult(statistic=55189913.0, pvalue=4.632205841806026e-45)"
      ]
     },
     "execution_count": 14,
     "metadata": {},
     "output_type": "execute_result"
    }
   ],
   "source": [
    "st.mannwhitneyu(control, test, alternative = 'two-sided')"
   ]
  },
  {
   "cell_type": "markdown",
   "id": "cb850fd1-a551-4a94-9e83-e1ddb474dd76",
   "metadata": {},
   "source": [
    "Манна-Уитни может различить, что распределения не эквиваленты друг другу"
   ]
  },
  {
   "cell_type": "markdown",
   "id": "86456db3-e8c0-4fc5-a231-6c6bd8c0daf7",
   "metadata": {},
   "source": [
    "#### T-тест на сглаженном ctr ($\\alpha$ = 5)"
   ]
  },
  {
   "cell_type": "code",
   "execution_count": 16,
   "id": "f425531b-8807-4295-9f61-b88da3f6ccb1",
   "metadata": {},
   "outputs": [],
   "source": [
    "# Функция для получения сглаженного CTR\n",
    "def get_smothed_ctr(user_likes, user_views, global_ctr, alpha):\n",
    "    smothed_ctr = (user_likes + alpha * global_ctr) / (user_views + alpha)\n",
    "    return smothed_ctr"
   ]
  },
  {
   "cell_type": "code",
   "execution_count": 17,
   "id": "8bde0ceb-a3d9-4152-b2da-718f0bd31d13",
   "metadata": {},
   "outputs": [],
   "source": [
    "# Расчет глобального CTR для обеих групп\n",
    "global_ctr_1 = df[df.exp_group == 1].likes.sum()/df[df.exp_group == 1].views.sum()\n",
    "global_ctr_2 = df[df.exp_group == 2].likes.sum()/df[df.exp_group == 2].views.sum()"
   ]
  },
  {
   "cell_type": "code",
   "execution_count": 18,
   "id": "6c974275-020a-4a5c-b2ea-da4bffcf8555",
   "metadata": {},
   "outputs": [],
   "source": [
    "# Отдельная переменная для групп\n",
    "group1 = df[df.exp_group == 1].copy()\n",
    "group2 = df[df.exp_group == 2].copy()"
   ]
  },
  {
   "cell_type": "code",
   "execution_count": 19,
   "id": "08b6fd91-43bc-4477-98c4-257f2c220010",
   "metadata": {},
   "outputs": [],
   "source": [
    "# Добавление колонки с сглаженным ctr\n",
    "group1['smothed_ctr'] = df.apply(\n",
    "    lambda x: get_smothed_ctr(x['likes'], x['views'], global_ctr_1, 5), axis=1)\n",
    "group2['smothed_ctr'] = df.apply(\n",
    "    lambda x: get_smothed_ctr(x['likes'], x['views'], global_ctr_2, 5), axis=1)"
   ]
  },
  {
   "cell_type": "code",
   "execution_count": 23,
   "id": "3e85762c-2bed-4100-a61b-2ffc5fc3728a",
   "metadata": {},
   "outputs": [
    {
     "data": {
      "text/plain": [
       "Ttest_indResult(statistic=1.9532482382297538, pvalue=0.050804185424054626)"
      ]
     },
     "execution_count": 23,
     "metadata": {},
     "output_type": "execute_result"
    }
   ],
   "source": [
    "# T-тест для сглаженного ctr\n",
    "st.ttest_ind(group1['smothed_ctr'], group2['smothed_ctr'])"
   ]
  },
  {
   "cell_type": "markdown",
   "id": "689b8888-3d72-4f00-a239-bd50a390fbfe",
   "metadata": {},
   "source": [
    "Т-тест на сглаженном ctr также не видит различии в средних"
   ]
  },
  {
   "cell_type": "markdown",
   "id": "d6106199-41c1-421c-85d1-1203ceced119",
   "metadata": {},
   "source": [
    "#### Пуасоновский бутстреп"
   ]
  },
  {
   "cell_type": "code",
   "execution_count": 24,
   "id": "187bd4a3-1ae3-4b76-a87d-d24b0b01f36f",
   "metadata": {},
   "outputs": [],
   "source": [
    "# Определение функции для bootstrap\n",
    "def bootstrap(likes1, views1, likes2, views2, n_bootstrap=2000):\n",
    "\n",
    "    weights1 = st.poisson(1).rvs(\n",
    "        (n_bootstrap, len(likes1))).astype(np.int64)\n",
    "\n",
    "    weights2 = st.poisson(1).rvs(\n",
    "        (n_bootstrap, len(likes2))).astype(np.int64)\n",
    "    \n",
    "    globalCTR1 = (weights1*likes1).sum(\n",
    "        axis=1)/(weights1*views1).sum(axis=1)\n",
    "    \n",
    "    globalCTR2 = (weights2*likes2).sum(\n",
    "        axis=1)/(weights2*views2).sum(axis=1)\n",
    "\n",
    "    return globalCTR1, globalCTR2"
   ]
  },
  {
   "cell_type": "code",
   "execution_count": 27,
   "id": "9ae38b34-8832-49e1-8029-3a81eb2ca79b",
   "metadata": {},
   "outputs": [],
   "source": [
    "# Сравнение двух групп при помощи, определенной сверху функуции bootstrap\n",
    "likes1 = df[df.exp_group == 1].likes.to_numpy()\n",
    "views1 = df[df.exp_group == 1].views.to_numpy()\n",
    "likes2 = df[df.exp_group == 2].likes.to_numpy()\n",
    "views2 = df[df.exp_group == 2].views.to_numpy()\n",
    "\n",
    "ctr1, ctr2 = bootstrap(likes1, views1, likes2, views2)"
   ]
  },
  {
   "cell_type": "code",
   "execution_count": 29,
   "id": "9b53c375-9ee1-4cf1-a31c-d9b4cfeba49b",
   "metadata": {},
   "outputs": [
    {
     "data": {
      "text/plain": [
       "<matplotlib.legend.Legend at 0x7f155c632fa0>"
      ]
     },
     "execution_count": 29,
     "metadata": {},
     "output_type": "execute_result"
    },
    {
     "data": {
      "image/png": "[encoded data removed]",
      "text/plain": [
       "<Figure size 432x288 with 1 Axes>"
      ]
     },
     "metadata": {
      "needs_background": "light"
     },
     "output_type": "display_data"
    }
   ],
   "source": [
    "# Визуализация полученных результатов\n",
    "sns.histplot(ctr1, label=\"CTR1\")\n",
    "sns.histplot(ctr2, label=\"CTR2\")\n",
    "plt.legend(title=\"groups\")"
   ]
  },
  {
   "cell_type": "code",
   "execution_count": 30,
   "id": "62b527bc-dbd4-4f13-8d42-2ecc63722310",
   "metadata": {},
   "outputs": [
    {
     "data": {
      "text/plain": [
       "<Axes: ylabel='Count'>"
      ]
     },
     "execution_count": 30,
     "metadata": {},
     "output_type": "execute_result"
    },
    {
     "data": {
      "image/png": "[encoded data removed]",
      "text/plain": [
       "<Figure size 432x288 with 1 Axes>"
      ]
     },
     "metadata": {
      "needs_background": "light"
     },
     "output_type": "display_data"
    }
   ],
   "source": [
    "# Визуализация разницы между глобальными CTR\n",
    "sns.histplot(ctr2 - ctr1)"
   ]
  },
  {
   "cell_type": "markdown",
   "id": "79fb9aa7-e2a8-47a3-9b91-664a2701696d",
   "metadata": {},
   "source": [
    "CTR тестовой группы оказался строго меньше чем в контроле"
   ]
  },
  {
   "cell_type": "markdown",
   "id": "363ab1d1-4d7e-436c-89c6-769ec7a25daf",
   "metadata": {},
   "source": [
    "#### Бакетное преобразование"
   ]
  },
  {
   "cell_type": "code",
   "execution_count": 31,
   "id": "a3d8a644-a726-430a-8095-680ef2d44a4f",
   "metadata": {},
   "outputs": [],
   "source": [
    "# При помощи Clickhouse разбиваем группы на бакеты\n",
    "q = \"\"\"\n",
    "SELECT exp_group, \n",
    "       bucket,\n",
    "       sum(likes)/sum(views) as bucket_ctr\n",
    "FROM (SELECT \n",
    "        exp_group, \n",
    "        xxHash64(user_id)%50 as bucket,\n",
    "        user_id,\n",
    "        sum(action = 'like') as likes,\n",
    "        sum(action = 'view') as views,\n",
    "        likes/views as ctr\n",
    "    FROM {db}.feed_actions \n",
    "   WHERE toDate(time) between '2025-05-02' and '2025-05-08'\n",
    "         and exp_group in (2,1)\n",
    "   GROUP BY exp_group, bucket, user_id)\n",
    "GROUP BY exp_group, bucket\n",
    "\"\"\"\n",
    "\n",
    "df = ph.read_clickhouse(q, connection=connection)"
   ]
  },
  {
   "cell_type": "code",
   "execution_count": 32,
   "id": "6885733b-f9ab-4b0f-aa58-5b2a7227be16",
   "metadata": {},
   "outputs": [
    {
     "data": {
      "text/plain": [
       "MannwhitneyuResult(statistic=1997.0, pvalue=2.6576427804010095e-07)"
      ]
     },
     "execution_count": 32,
     "metadata": {},
     "output_type": "execute_result"
    }
   ],
   "source": [
    "#тест Манна-Уитни\n",
    "st.mannwhitneyu(df[df.exp_group == 1].bucket_ctr, \n",
    "                   df[df.exp_group == 2].bucket_ctr, \n",
    "                   alternative = 'two-sided')"
   ]
  },
  {
   "cell_type": "markdown",
   "id": "1efbf8f5-85d3-4d57-b475-35a7f3c32152",
   "metadata": {},
   "source": [
    "Тест Манна-Уитни видит различия в распределениях"
   ]
  },
  {
   "cell_type": "code",
   "execution_count": 33,
   "id": "fa47e6e8-775d-4cee-933a-12d34a87c112",
   "metadata": {},
   "outputs": [
    {
     "data": {
      "text/plain": [
       "Ttest_indResult(statistic=5.614819358149381, pvalue=4.592644937473873e-07)"
      ]
     },
     "execution_count": 33,
     "metadata": {},
     "output_type": "execute_result"
    }
   ],
   "source": [
    "#T-тест\n",
    "st.ttest_ind(df[df.exp_group == 1].bucket_ctr, \n",
    "                   df[df.exp_group == 2].bucket_ctr, \n",
    "                   equal_var=False)"
   ]
  },
  {
   "cell_type": "markdown",
   "id": "99bd1439-d79f-4c9e-9792-0a392a44e699",
   "metadata": {},
   "source": [
    "Также Т-тест видит различия в средних в бакетах"
   ]
  },
  {
   "cell_type": "markdown",
   "id": "a69a9874-a100-41ae-8cd2-b5996040741d",
   "metadata": {},
   "source": [
    "## Выводы\n",
    "\n",
    "1. Проведены сравнения контрольной и тестовой групп при помощи таких тестов как:\n",
    "   - Т-тест\n",
    "   - Тест Манна-Уитни\n",
    "   - T-тест на сглаженном ctr ($\\alpha$ = 5)\n",
    "   - Пуасоновский бутстреп\n",
    "   - T-тест на бакетном преобразовании \n",
    "   - Тест Манна-Уитни на бакетном преобразовании\n",
    "2. Результаты показали, что классический Т-тест и Т-тест на сглаженном ctr не видит различия в средних значениях в группах. Классический тест Манна-Уитни, а также тест Манна-Уитни на бакетном преобразовании строго видит, что распределения различаются. Пуасоновский бутстреп видит, что ctr в тестовой группе строго меньше чем в контрольной. Т-тест на бакетном преобразовании находит различия в средних.\n",
    "3. Потенциальная причина, почему классический Т-тест и Т-тест на сглаженном ctr не видит различий с средних, это бимодальность распределения тестовой группы. Т-тест сравнивает средние значения и среднее значение может быть нерепрезентативным для описания данных, так как оно может находиться между пиками и не отражать реальную структуру распределения. Напротив, в тесте Манна-Уитни проверяется не средние или медианы, а эквивалентность распределения, что легко распознается этим тестом, что это не так. Пуасоновский бутстрап сравнивает не поюзерный ctr, а глобальный, поэтому он является довольно чувствительным, но медленным. Аналогичная причина для бакетного преобразования, который моделирует бутсреп в миниатюре. Сравнивает не поюзерный ctr, а потенциальный глобальных ctr и сравнивает его распределения в обоих группах.\n",
    "4. Тестая группа явно раздилилась на два лагеря, одним изменения в алгоритме явно пошло на пользу в поисках постов, которые им понравятся, другим напротив алгоритм резко усугубил ситуацию. Это может быть потенциальная ошибка в алгоритме, где часто рекомендуется таже или перепост такой же публикации. \n",
    "5. **В любом случае не рекомендуется** выкатывать новый алгоритм на всех пользователей. Даже если бы все проведенные тесты не заметили бы различий в ctr, или все тесты показывали, что ctr выше в тестовой группе, вывод бы оставался таким же, так как в тестовой группе явно присутвуют большое кол-во недовольных или неудовлетвореных пользователей новым алгоритмом. Но также можно сослаться на то что более чувствительный пуассоновский бутстреп или бакетное преобразование, которые видят что ctr в тестовой группе строго меньше чем в контроле. \n"
   ]
  },
  {
   "cell_type": "code",
   "execution_count": null,
   "id": "7e12b2a2-a3db-4f50-851b-40fcbc774dd8",
   "metadata": {},
   "outputs": [],
   "source": []
  }
 ],
 "metadata": {
  "kernelspec": {
   "display_name": "Python 3 (ipykernel)",
   "language": "python",
   "name": "python3"
  },
  "language_info": {
   "codemirror_mode": {
    "name": "ipython",
    "version": 3
   },
   "file_extension": ".py",
   "mimetype": "text/x-python",
   "name": "python",
   "nbconvert_exporter": "python",
   "pygments_lexer": "ipython3",
   "version": "3.11.13"
  }
 },
 "nbformat": 4,
 "nbformat_minor": 5
}
